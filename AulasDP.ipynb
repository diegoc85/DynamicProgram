{
 "cells": [
  {
   "cell_type": "code",
   "execution_count": null,
   "metadata": {},
   "outputs": [
    {
     "name": "stdout",
     "output_type": "stream",
     "text": [
      "256\n"
     ]
    }
   ],
   "source": [
    "def funcao(x):\n",
    "    return x * x\n",
    "\n",
    "a = funcao(2) #4\n",
    "z= funcao(a) # 16 \n",
    "b = funcao(z) # 16 * 16\n",
    "\n",
    "print(b)"
   ]
  },
  {
   "cell_type": "code",
   "execution_count": 2,
   "metadata": {},
   "outputs": [
    {
     "name": "stdout",
     "output_type": "stream",
     "text": [
      "256\n"
     ]
    }
   ],
   "source": [
    "def funcao(x):\n",
    "    return x * x  # Retorna o quadrado de x\n",
    "\n",
    "a = funcao(2)  # a = 2 * 2 = 4\n",
    "b = funcao(funcao(a))  # b = funcao(funcao(4))\n",
    "print(b)\n"
   ]
  },
  {
   "cell_type": "code",
   "execution_count": null,
   "metadata": {},
   "outputs": [
    {
     "name": "stdout",
     "output_type": "stream",
     "text": [
      "8\n"
     ]
    }
   ],
   "source": [
    "def funcao(x):\n",
    "    return x + x  # Retorna o dobro de x\n",
    "\n",
    "a = funcao(2)  # a = 2 + 2 = 4 -> a = 4\n",
    "b = funcao(funcao(2))  # b = funcao(funcao(2))\n",
    "print(b)\n"
   ]
  },
  {
   "cell_type": "code",
   "execution_count": 2,
   "metadata": {},
   "outputs": [
    {
     "name": "stdout",
     "output_type": "stream",
     "text": [
      "60\n"
     ]
    }
   ],
   "source": [
    "def soma(lista):\n",
    "    resultado = 0\n",
    "    for e in lista:\n",
    "        resultado = resultado + e  # Soma os elementos da lista\n",
    "    return resultado\n",
    "\n",
    "lista = [10, 20, 30]  # Esta variável não afeta diretamente a função soma()\n",
    "\n",
    "#print(soma([100, 200]))  # Chamada da função com a lista [100, 200]\n",
    "print(soma(lista))\n"
   ]
  },
  {
   "cell_type": "code",
   "execution_count": 2,
   "metadata": {},
   "outputs": [
    {
     "name": "stdout",
     "output_type": "stream",
     "text": [
      "1\n",
      "4\n",
      "3\n",
      "2\n"
     ]
    }
   ],
   "source": [
    "lista = [1,4,0,2,3]\n",
    "\n",
    "a = lista[0] # a= 1 / a=4 / a=3 / a=2 / não imprime a= 0 \n",
    "\n",
    "while (a!=0):\n",
    "    print(a)\n",
    "    a = lista[a] # lista[1]=4 / lista[4]=3 / lista[3]=2 / lista[2]=0\n",
    "    "
   ]
  },
  {
   "cell_type": "markdown",
   "metadata": {},
   "source": [
    "O método insert modifica a lista original e retorna None. Portanto, ao utilizá-lo, trabalhe diretamente com a lista que foi alterada."
   ]
  },
  {
   "cell_type": "code",
   "execution_count": 6,
   "metadata": {},
   "outputs": [
    {
     "name": "stdout",
     "output_type": "stream",
     "text": [
      "[7, 8]\n"
     ]
    },
    {
     "data": {
      "text/plain": [
       "[7, 8, 9]"
      ]
     },
     "execution_count": 6,
     "metadata": {},
     "output_type": "execute_result"
    }
   ],
   "source": [
    "lista = [7,8]\n",
    "print(lista)\n",
    "lista.insert(2,9)\n",
    "lista"
   ]
  },
  {
   "cell_type": "code",
   "execution_count": 8,
   "metadata": {},
   "outputs": [
    {
     "name": "stdout",
     "output_type": "stream",
     "text": [
      "[7, 8, 1, 2, 3, 4, 5]\n"
     ]
    }
   ],
   "source": [
    "lista = [7,8]\n",
    "\n",
    "for x in range(0,5):\n",
    "    numero = int(input('Digite um número:'))\n",
    "    lista.append(numero)\n",
    "print(lista)\n",
    "\n",
    "\n"
   ]
  },
  {
   "cell_type": "code",
   "execution_count": null,
   "metadata": {},
   "outputs": [
    {
     "data": {
      "text/plain": [
       "[3, 4, 5, 6]"
      ]
     },
     "execution_count": 15,
     "metadata": {},
     "output_type": "execute_result"
    }
   ],
   "source": [
    "\n",
    "def cresce(lista):\n",
    "    i_ultimo = len(lista) - 1 # obtenho o indice do último elemento da lista\n",
    "    ultimo1 = lista[i_ultimo] # obtenho o valor da da última posição \n",
    "    ultimo2 = lista[-1]\n",
    "    lista.append(ultimo1 + 1)\n",
    "    return lista\n",
    "\n",
    "cresce([3,4,5])\n",
    "cresce([30,40,50,60])\n",
    "cresce([2])\n"
   ]
  },
  {
   "cell_type": "code",
   "execution_count": 8,
   "metadata": {},
   "outputs": [
    {
     "data": {
      "text/plain": [
       "[10, 20, 30, 40, 41, 42, 43]"
      ]
     },
     "execution_count": 8,
     "metadata": {},
     "output_type": "execute_result"
    }
   ],
   "source": [
    "def cresce(lista):\n",
    "    for x in range(1,4):\n",
    "        i_ultimo = len(lista) - 1\n",
    "        ultimo1 = lista[i_ultimo]\n",
    "        lista.append(ultimo1 + 1)\n",
    "    return lista\n",
    "\n",
    "lista = [10,20,30,40]\n",
    "cresce(lista)\n",
    "        "
   ]
  },
  {
   "cell_type": "code",
   "execution_count": null,
   "metadata": {},
   "outputs": [
    {
     "name": "stdout",
     "output_type": "stream",
     "text": [
      "135\n",
      "405\n"
     ]
    }
   ],
   "source": [
    "def funcao(a):\n",
    "    return 3*a\n",
    "    \n",
    "a = 5\n",
    "b = funcao(a) #15\n",
    "c = funcao(funcao(b)) # 45\n",
    "print(c)\n",
    "print(funcao(c))"
   ]
  },
  {
   "cell_type": "code",
   "execution_count": 1,
   "metadata": {},
   "outputs": [
    {
     "name": "stdout",
     "output_type": "stream",
     "text": [
      "16\n"
     ]
    }
   ],
   "source": [
    "def funcao(x):\n",
    "    return x+x\n",
    "\n",
    "a = funcao(2) #  a= 4\n",
    "\n",
    "z  = funcao(a) # z = 8 \n",
    "b1 = funcao(z) # b1 = 16\n",
    "\n",
    "b2 = funcao(funcao(a))\n",
    "print(b2) # 16"
   ]
  },
  {
   "cell_type": "code",
   "execution_count": 9,
   "metadata": {},
   "outputs": [
    {
     "name": "stdout",
     "output_type": "stream",
     "text": [
      "10\n"
     ]
    }
   ],
   "source": [
    "def retorna_lista(lista):\n",
    "    maior = 0\n",
    "    for n in range(0,len(lista)):\n",
    "        if lista[n] > maior:\n",
    "            maior = lista[n]\n",
    "        else:\n",
    "            maior \n",
    "    return maior\n",
    "\n",
    "retorna_lista([9,1,10])\n",
    "\n",
    "resultado = retorna_lista([9,1,10])\n",
    "print(resultado)\n",
    "\n",
    "\n",
    "\n"
   ]
  },
  {
   "cell_type": "code",
   "execution_count": null,
   "metadata": {},
   "outputs": [],
   "source": [
    "def pega_posicao1(lista,posicao):\n",
    "    lista[posicao]\n",
    "\n",
    "def pega_posicao2(lista,posicao):\n",
    "    return lista[posicao]\n",
    "\n",
    "l= [10,20,30]\n",
    "a= pega_posicao2(l,0)\n",
    "b= pega_posicao2(l,1)\n",
    "c= pega_posicao1(l,10)\n",
    "print(a)\n",
    "print(b)\n",
    "print(c)"
   ]
  },
  {
   "cell_type": "markdown",
   "metadata": {},
   "source": [
    "Para que a função abaixo retorne o elemento desejado da lista, é necessário adicionar uma instrução return. Se não colocar, irá retorna None. "
   ]
  },
  {
   "cell_type": "code",
   "execution_count": 11,
   "metadata": {},
   "outputs": [
    {
     "data": {
      "text/plain": [
       "100"
      ]
     },
     "execution_count": 11,
     "metadata": {},
     "output_type": "execute_result"
    }
   ],
   "source": [
    "def pega_posicao(lista, posicao):\n",
    "    lista[posicao]\n",
    "    return lista[posicao] \n",
    "\n",
    "pega_posicao([10,20,30,40,50,100],5)"
   ]
  },
  {
   "cell_type": "code",
   "execution_count": null,
   "metadata": {},
   "outputs": [
    {
     "name": "stdout",
     "output_type": "stream",
     "text": [
      "None\n"
     ]
    }
   ],
   "source": [
    "\n",
    "def pega_posicao(lista,posicao):\n",
    "    lista[posicao]\n",
    "\n",
    "a = pega_posicao([10,20,30],2)\n",
    "print(a)"
   ]
  },
  {
   "cell_type": "code",
   "execution_count": null,
   "metadata": {},
   "outputs": [],
   "source": [
    "\n",
    "def pega_posicao(lista,posicao):\n",
    "    return lista[posicao]\n",
    "    \n",
    "\n",
    "a = pega_posicao([10,20,30],2)\n",
    "print(a)\n"
   ]
  },
  {
   "cell_type": "markdown",
   "metadata": {},
   "source": [
    "Em Python, os nomes das variáveis utilizadas dentro de uma função devem corresponder exatamente aos nomes dos parâmetros definidos na assinatura da função para que possam referenciar os valores passados durante a chamada da função."
   ]
  },
  {
   "cell_type": "code",
   "execution_count": null,
   "metadata": {},
   "outputs": [],
   "source": [
    "def pega_posicao(lista,posicao):\n",
    "    return l[p] #dará NameError\n",
    "    \n",
    "\n",
    "a = pega_posicao([10,20,30],2)\n",
    "print(a)"
   ]
  },
  {
   "cell_type": "markdown",
   "metadata": {},
   "source": [
    "No seu código, l é uma variável global. Quando passada como argumento para a função, o parâmetro lista se torna uma variável local que referencia o mesmo objeto que l.\n",
    "\n",
    "Conclusão:\n",
    "\n",
    "Não ocorre um NameError porque l é uma variável global definida antes da chamada da função. Ao passar l como argumento, a função utiliza o parâmetro lista para referenciar a mesma lista. Portanto, o código funciona corretamente e exibe \"O resultado é 10\"."
   ]
  },
  {
   "cell_type": "code",
   "execution_count": null,
   "metadata": {},
   "outputs": [
    {
     "name": "stdout",
     "output_type": "stream",
     "text": [
      "O resultado é 10\n"
     ]
    }
   ],
   "source": [
    "def pega_posicao2(lista,posicao):\n",
    "    return lista[posicao]\n",
    "\n",
    "l= [10,20,30]\n",
    "a= pega_posicao2(l,0)\n",
    "print(f\"O resultado é {a}\")\n",
    "\n"
   ]
  },
  {
   "cell_type": "markdown",
   "metadata": {},
   "source": [
    "É recomendável adicionar uma verificação para garantir que o índice fornecido (posicao) esteja dentro dos limites da lista, evitando um possível IndexError."
   ]
  },
  {
   "cell_type": "code",
   "execution_count": null,
   "metadata": {},
   "outputs": [
    {
     "name": "stdout",
     "output_type": "stream",
     "text": [
      "None\n"
     ]
    }
   ],
   "source": [
    "def pega_posicao(lista, posicao):\n",
    "    if 0 <= posicao < len(lista):\n",
    "        return lista[posicao]\n",
    "    else:\n",
    "        return None  # Ou outra indicação de posição inválida\n",
    "\n",
    "l = [100,200,300,400] #l é declarada antes da chamada da função. \n",
    "b= pega_posicao(l,1)\n",
    "print(b)"
   ]
  },
  {
   "cell_type": "markdown",
   "metadata": {},
   "source": [
    " Índices negativos acessam elementos a partir do final da lista. Por exemplo, lista[-1] retorna o último elemento. "
   ]
  },
  {
   "cell_type": "code",
   "execution_count": null,
   "metadata": {},
   "outputs": [
    {
     "name": "stdout",
     "output_type": "stream",
     "text": [
      "30\n"
     ]
    }
   ],
   "source": [
    "def pega_posicao(lista, posicao):\n",
    "    if posicao < 0 or posicao >= len(lista):\n",
    "        return None  # Ou outra indicação de posição inválida\n",
    "    return lista[posicao]\n",
    "\n",
    "l = [50,40,30]\n",
    "c= pega_posicao(l,10)\n",
    "print(c)"
   ]
  },
  {
   "cell_type": "code",
   "execution_count": 18,
   "metadata": {},
   "outputs": [
    {
     "name": "stdout",
     "output_type": "stream",
     "text": [
      "0\n",
      "1\n",
      "2\n",
      "3\n"
     ]
    }
   ],
   "source": [
    "lista = [3,2,1,0]\n",
    "\n",
    "for x in lista:\n",
    "    print(lista[x])"
   ]
  },
  {
   "cell_type": "code",
   "execution_count": 19,
   "metadata": {},
   "outputs": [
    {
     "name": "stdout",
     "output_type": "stream",
     "text": [
      "10\n",
      "1\n",
      "2\n"
     ]
    },
    {
     "ename": "IndexError",
     "evalue": "list index out of range",
     "output_type": "error",
     "traceback": [
      "\u001b[0;31m---------------------------------------------------------------------------\u001b[0m",
      "\u001b[0;31mIndexError\u001b[0m                                Traceback (most recent call last)",
      "Cell \u001b[0;32mIn[19], line 3\u001b[0m\n\u001b[1;32m      1\u001b[0m lista \u001b[38;5;241m=\u001b[39m [\u001b[38;5;241m3\u001b[39m,\u001b[38;5;241m2\u001b[39m,\u001b[38;5;241m1\u001b[39m,\u001b[38;5;241m10\u001b[39m]\n\u001b[1;32m      2\u001b[0m \u001b[38;5;28;01mfor\u001b[39;00m x \u001b[38;5;129;01min\u001b[39;00m lista:\n\u001b[0;32m----> 3\u001b[0m     \u001b[38;5;28mprint\u001b[39m(\u001b[43mlista\u001b[49m\u001b[43m[\u001b[49m\u001b[43mx\u001b[49m\u001b[43m]\u001b[49m) \u001b[38;5;66;03m#10,1,2, out of index\u001b[39;00m\n",
      "\u001b[0;31mIndexError\u001b[0m: list index out of range"
     ]
    }
   ],
   "source": [
    "lista = [3,2,1,10]\n",
    "for x in lista:\n",
    "    print(lista[x]) #10,1,2, out of index"
   ]
  },
  {
   "cell_type": "code",
   "execution_count": null,
   "metadata": {},
   "outputs": [],
   "source": [
    "def cria_naipe(naipe):\n",
    "    cartas = ['A', '2','3', '4', '5', '6', '7', '8', '9', '10', 'J', 'Q', 'K']\n",
    "    resposta = []"
   ]
  },
  {
   "cell_type": "code",
   "execution_count": null,
   "metadata": {},
   "outputs": [],
   "source": [
    "def cria_baralho():"
   ]
  },
  {
   "cell_type": "code",
   "execution_count": null,
   "metadata": {},
   "outputs": [
    {
     "data": {
      "text/plain": [
       "73"
      ]
     },
     "execution_count": 21,
     "metadata": {},
     "output_type": "execute_result"
    }
   ],
   "source": [
    "def soma(a,b):\n",
    "    resultado = a + b\n",
    "    return resultado\n",
    "\n",
    "def soma3(a,b,c):\n",
    "    dois_primeiros = soma(a,b) # retorno da func soma será guardado aqui\n",
    "    resultado = soma(dois_primeiros,c) # retorno da fun soma será guardado aqui\n",
    "    return resultado\n",
    "\n",
    "soma3(10,3,60)\n",
    "    "
   ]
  },
  {
   "cell_type": "code",
   "execution_count": null,
   "metadata": {},
   "outputs": [
    {
     "name": "stdout",
     "output_type": "stream",
     "text": [
      "1 2 3 4\n",
      "2 3 4\n",
      "3 4\n",
      "2 3 4\n",
      "1 2 3 4\n"
     ]
    },
    {
     "data": {
      "text/plain": [
       "4"
      ]
     },
     "execution_count": 20,
     "metadata": {},
     "output_type": "execute_result"
    }
   ],
   "source": [
    "def maximo2(a,b):\n",
    "    print(a,b) #3,4\n",
    "    if a>b:\n",
    "        return a\n",
    "    return b\n",
    "\n",
    "def maximo3(a,b,c):\n",
    "    print(a,b,c) # 2,3,4\n",
    "    maior_resto = maximo2(b,c) # 3,4 = 4\n",
    "    print(a,b,c) # 2,3,4\n",
    "    if a > maior_resto:\n",
    "        return a\n",
    "    return maior_resto # = 4\n",
    "\n",
    "def maximo4(a,b,c,d): \n",
    "    print(a,b,c,d) # 1,2,3,4\n",
    "    maior_resto = maximo3(b,c,d) # 2,3,4 = 4\n",
    "    print(a,b,c,d) # 1,2,3,4\n",
    "    if a > maior_resto:\n",
    "        return a\n",
    "    return maior_resto\n",
    "\n",
    "maximo4(1,2,3,4)\n",
    "\n",
    "# 1,2,3,4\n",
    "# 2,3,4\n",
    "# 3,4\n",
    "#2,3,4\n",
    "# 1,2,3,4\n",
    "\n"
   ]
  },
  {
   "cell_type": "code",
   "execution_count": null,
   "metadata": {},
   "outputs": [
    {
     "data": {
      "text/plain": [
       "'Olá, Rafael!'"
      ]
     },
     "execution_count": 2,
     "metadata": {},
     "output_type": "execute_result"
    }
   ],
   "source": [
    "def saudacao(nome):\n",
    "    exibir_msg = f\"Olá, {nome}!\"\n",
    "    return exibir_msg #return f\"Olá, {nome}!\"\n",
    "\n",
    "def exibir_saudacao(nome):\n",
    "    mensagem = saudacao(nome)\n",
    "    return mensagem\n",
    "\n",
    "exibir_saudacao(\"Rafael\")"
   ]
  }
 ],
 "metadata": {
  "kernelspec": {
   "display_name": "Python 3",
   "language": "python",
   "name": "python3"
  },
  "language_info": {
   "codemirror_mode": {
    "name": "ipython",
    "version": 3
   },
   "file_extension": ".py",
   "mimetype": "text/x-python",
   "name": "python",
   "nbconvert_exporter": "python",
   "pygments_lexer": "ipython3",
   "version": "3.12.3"
  }
 },
 "nbformat": 4,
 "nbformat_minor": 2
}

{
 "cells": [
  {
   "cell_type": "code",
   "execution_count": null,
   "metadata": {},
   "outputs": [
    {
     "name": "stdout",
     "output_type": "stream",
     "text": [
      "256\n"
     ]
    }
   ],
   "source": [
    "def funcao(x):\n",
    "    return x * x\n",
    "\n",
    "a = funcao(2) #4\n",
    "z= funcao(a) # 16 \n",
    "b = funcao(z) # 16 * 16\n",
    "\n",
    "print(b)"
   ]
  },
  {
   "cell_type": "code",
   "execution_count": 2,
   "metadata": {},
   "outputs": [
    {
     "name": "stdout",
     "output_type": "stream",
     "text": [
      "256\n"
     ]
    }
   ],
   "source": [
    "def funcao(x):\n",
    "    return x * x  # Retorna o quadrado de x\n",
    "\n",
    "a = funcao(2)  # a = 2 * 2 = 4\n",
    "b = funcao(funcao(a))  # b = funcao(funcao(4))\n",
    "print(b)\n"
   ]
  },
  {
   "cell_type": "code",
   "execution_count": 3,
   "metadata": {},
   "outputs": [
    {
     "name": "stdout",
     "output_type": "stream",
     "text": [
      "8\n"
     ]
    }
   ],
   "source": [
    "def funcao(x):\n",
    "    return x + x  # Retorna o dobro de x\n",
    "\n",
    "a = funcao(2)  # a = 2 + 2 = 4\n",
    "b = funcao(funcao(2))  # b = funcao(funcao(2))\n",
    "print(b)\n"
   ]
  },
  {
   "cell_type": "code",
   "execution_count": 13,
   "metadata": {},
   "outputs": [
    {
     "name": "stdout",
     "output_type": "stream",
     "text": [
      "300\n"
     ]
    }
   ],
   "source": [
    "def soma(lista):\n",
    "    resultado = 0\n",
    "    for e in lista:\n",
    "        resultado = resultado + e  # Soma os elementos da lista\n",
    "    return resultado\n",
    "\n",
    "lista = [10, 20, 30]  # Esta variável não afeta diretamente a função soma()\n",
    "\n",
    "print(soma([100, 200]))  # Chamada da função com a lista [100, 200]\n"
   ]
  },
  {
   "cell_type": "code",
   "execution_count": 2,
   "metadata": {},
   "outputs": [
    {
     "name": "stdout",
     "output_type": "stream",
     "text": [
      "1\n",
      "4\n",
      "3\n",
      "2\n"
     ]
    }
   ],
   "source": [
    "lista = [1,4,0,2,3]\n",
    "\n",
    "a = lista[0] # a= 1 / a=4 / a=3 / a=2 / não imprime a= 0 \n",
    "\n",
    "while (a!=0):\n",
    "    print(a)\n",
    "    a = lista[a] # lista[1]=4 / lista[4]=3 / lista[3]=2 / lista[2]=0\n",
    "    "
   ]
  },
  {
   "cell_type": "code",
   "execution_count": 7,
   "metadata": {},
   "outputs": [
    {
     "name": "stdout",
     "output_type": "stream",
     "text": [
      "[7, 8]\n",
      "None\n"
     ]
    }
   ],
   "source": [
    "lista = [7,8]\n",
    "print(lista)\n",
    "lista_nova = lista.insert(2,9)\n",
    "print(lista_nova)"
   ]
  },
  {
   "cell_type": "code",
   "execution_count": 8,
   "metadata": {},
   "outputs": [
    {
     "name": "stdout",
     "output_type": "stream",
     "text": [
      "[7, 8, 1, 2, 3, 4, 5]\n"
     ]
    }
   ],
   "source": [
    "lista = [7,8]\n",
    "\n",
    "for x in range(0,5):\n",
    "    numero = int(input('Digite um número:'))\n",
    "    lista.append(numero)\n",
    "print(lista)\n",
    "\n",
    "\n"
   ]
  },
  {
   "cell_type": "code",
   "execution_count": null,
   "metadata": {},
   "outputs": [
    {
     "data": {
      "text/plain": [
       "[3, 4, 5, 6]"
      ]
     },
     "execution_count": 15,
     "metadata": {},
     "output_type": "execute_result"
    }
   ],
   "source": [
    "\n",
    "def cresce(lista):\n",
    "    i_ultimo = len(lista) - 1 # obtenho o indice do último elemento da lista\n",
    "    ultimo1 = lista[i_ultimo] # obtenho o valor da da última posição \n",
    "    ultimo2 = lista[-1]\n",
    "    lista.append(ultimo1 + 1)\n",
    "    return lista\n",
    "\n",
    "cresce([3,4,5])\n",
    "cresce([30,40,50,60])\n",
    "cresce([2])\n"
   ]
  },
  {
   "cell_type": "code",
   "execution_count": 1,
   "metadata": {},
   "outputs": [
    {
     "name": "stdout",
     "output_type": "stream",
     "text": [
      "135\n",
      "405\n"
     ]
    }
   ],
   "source": [
    "def funcao(a):\n",
    "    return 3*a\n",
    "    \n",
    "a = 5\n",
    "b = funcao(a)\n",
    "c = funcao(funcao(b))\n",
    "print(c)\n",
    "print(funcao(c))"
   ]
  },
  {
   "cell_type": "code",
   "execution_count": 1,
   "metadata": {},
   "outputs": [
    {
     "name": "stdout",
     "output_type": "stream",
     "text": [
      "16\n"
     ]
    }
   ],
   "source": [
    "def funcao(x):\n",
    "    return x+x\n",
    "\n",
    "a = funcao(2) #  a= 4\n",
    "\n",
    "z  = funcao(a) # z = 8 \n",
    "b1 = funcao(z) # b1 = 16\n",
    "\n",
    "b2 = funcao(funcao(a))\n",
    "print(b2) # 16"
   ]
  },
  {
   "cell_type": "code",
   "execution_count": null,
   "metadata": {},
   "outputs": [
    {
     "name": "stdout",
     "output_type": "stream",
     "text": [
      "[1, 2, 3, 4, 5]\n"
     ]
    }
   ],
   "source": [
    "def retorna_lista(lista):\n",
    "    maior = 0\n",
    "    for n in range(0,len(lista)):\n",
    "        if lista[n] > maior:\n",
    "            maior = lista[n]\n",
    "        else:\n",
    "            maior \n",
    "    return maior\n",
    "\n",
    "retorna_lista([9,1,10])\n",
    "\n",
    "resultado = retorna_lista(minha_lista)\n",
    "print(resultado)\n",
    "\n",
    "\n",
    "\n"
   ]
  },
  {
   "cell_type": "code",
   "execution_count": null,
   "metadata": {},
   "outputs": [],
   "source": [
    "def pega_posicao1(lista,posicao):\n",
    "    lista[posicao]\n",
    "\n",
    "def pega_posicao2(lista,posicao):\n",
    "    return lista[posicao]\n",
    "\n",
    "l= [10,20,30]\n",
    "a= pega_posicao1(l,0)\n",
    "b= pega_posicao2(l,1)\n",
    "c= pega_posicao1(l,10)"
   ]
  },
  {
   "cell_type": "markdown",
   "metadata": {},
   "source": [
    "Para que a função abaixo retorne o elemento desejado da lista, é necessário adicionar uma instrução return. Se não colocar, irá retorna None. "
   ]
  },
  {
   "cell_type": "code",
   "execution_count": null,
   "metadata": {},
   "outputs": [
    {
     "name": "stdout",
     "output_type": "stream",
     "text": [
      "None\n"
     ]
    }
   ],
   "source": [
    "\n",
    "def pega_posicao(lista,posicao):\n",
    "    lista[posicao]\n",
    "\n",
    "a = pega_posicao([10,20,30],2)\n",
    "print(a)"
   ]
  },
  {
   "cell_type": "code",
   "execution_count": null,
   "metadata": {},
   "outputs": [],
   "source": [
    "\n",
    "def pega_posicao(lista,posicao):\n",
    "    return lista[posicao]\n",
    "    \n",
    "\n",
    "a = pega_posicao([10,20,30],2)\n",
    "print(a)\n"
   ]
  },
  {
   "cell_type": "markdown",
   "metadata": {},
   "source": [
    "Em Python, os nomes das variáveis utilizadas dentro de uma função devem corresponder exatamente aos nomes dos parâmetros definidos na assinatura da função para que possam referenciar os valores passados durante a chamada da função."
   ]
  },
  {
   "cell_type": "code",
   "execution_count": null,
   "metadata": {},
   "outputs": [],
   "source": [
    "def pega_posicao(lista,posicao):\n",
    "    return l[p] #dará NameError\n",
    "    \n",
    "\n",
    "a = pega_posicao([10,20,30],2)\n",
    "print(a)"
   ]
  },
  {
   "cell_type": "markdown",
   "metadata": {},
   "source": [
    "No seu código, l é uma variável global. Quando passada como argumento para a função, o parâmetro lista se torna uma variável local que referencia o mesmo objeto que l.\n",
    "\n",
    "Conclusão:\n",
    "\n",
    "Não ocorre um NameError porque l é uma variável global definida antes da chamada da função. Ao passar l como argumento, a função utiliza o parâmetro lista para referenciar a mesma lista. Portanto, o código funciona corretamente e exibe \"O resultado é 10\"."
   ]
  },
  {
   "cell_type": "code",
   "execution_count": null,
   "metadata": {},
   "outputs": [
    {
     "name": "stdout",
     "output_type": "stream",
     "text": [
      "O resultado é 10\n"
     ]
    }
   ],
   "source": [
    "def pega_posicao2(lista,posicao):\n",
    "    return lista[posicao]\n",
    "\n",
    "l= [10,20,30]\n",
    "a= pega_posicao2(l,0)\n",
    "print(f\"O resultado é {a}\")\n",
    "\n"
   ]
  },
  {
   "cell_type": "markdown",
   "metadata": {},
   "source": [
    "É recomendável adicionar uma verificação para garantir que o índice fornecido (posicao) esteja dentro dos limites da lista, evitando um possível IndexError."
   ]
  },
  {
   "cell_type": "code",
   "execution_count": null,
   "metadata": {},
   "outputs": [
    {
     "name": "stdout",
     "output_type": "stream",
     "text": [
      "None\n"
     ]
    }
   ],
   "source": [
    "def pega_posicao(lista, posicao):\n",
    "    if 0 <= posicao < len(lista):\n",
    "        return lista[posicao]\n",
    "    else:\n",
    "        return None  # Ou outra indicação de posição inválida\n",
    "\n",
    "l = [100,200,300,400] #l é declarada antes da chamada da função. \n",
    "b= pega_posicao(l,1)\n",
    "print(b)"
   ]
  },
  {
   "cell_type": "markdown",
   "metadata": {},
   "source": [
    " Índices negativos acessam elementos a partir do final da lista. Por exemplo, lista[-1] retorna o último elemento. "
   ]
  },
  {
   "cell_type": "code",
   "execution_count": null,
   "metadata": {},
   "outputs": [
    {
     "name": "stdout",
     "output_type": "stream",
     "text": [
      "30\n"
     ]
    }
   ],
   "source": [
    "def pega_posicao(lista, posicao):\n",
    "    if posicao < 0 or posicao >= len(lista):\n",
    "        return None  # Ou outra indicação de posição inválida\n",
    "    return lista[posicao]\n",
    "\n",
    "l = [50,40,30]\n",
    "c= pega_posicao(l,10)\n",
    "print(c)"
   ]
  },
  {
   "cell_type": "code",
   "execution_count": null,
   "metadata": {},
   "outputs": [],
   "source": [
    "lista = [3,2,1,0]\n",
    "\n",
    "for x in lista:\n",
    "    print(lista[x])"
   ]
  },
  {
   "cell_type": "code",
   "execution_count": null,
   "metadata": {},
   "outputs": [],
   "source": [
    "lista = [3,2,1,10]\n",
    "for x in lista:\n",
    "    print(lista[x]) #10,1,2, out of index"
   ]
  },
  {
   "cell_type": "code",
   "execution_count": null,
   "metadata": {},
   "outputs": [],
   "source": [
    "def cria_naipe(naipe):\n",
    "    cartas = ['A', '2','3', '4', '5', '6', '7', '8', '9', '10', 'J', 'Q', 'K']\n",
    "    resposta = []"
   ]
  },
  {
   "cell_type": "code",
   "execution_count": null,
   "metadata": {},
   "outputs": [],
   "source": [
    "def cria_baralho():"
   ]
  },
  {
   "cell_type": "code",
   "execution_count": 21,
   "metadata": {},
   "outputs": [
    {
     "data": {
      "text/plain": [
       "73"
      ]
     },
     "execution_count": 21,
     "metadata": {},
     "output_type": "execute_result"
    }
   ],
   "source": [
    "def soma(a,b):\n",
    "    resultado = a + b\n",
    "    return resultado\n",
    "\n",
    "def soma3(a,b,c):\n",
    "    dois_primeiros = soma(a,b)\n",
    "    resultado = soma(dois_primeiros,c)\n",
    "    return resultado\n",
    "\n",
    "soma3(10,3,60)\n",
    "    "
   ]
  },
  {
   "cell_type": "code",
   "execution_count": null,
   "metadata": {},
   "outputs": [],
   "source": []
  }
 ],
 "metadata": {
  "kernelspec": {
   "display_name": "Python 3",
   "language": "python",
   "name": "python3"
  },
  "language_info": {
   "codemirror_mode": {
    "name": "ipython",
    "version": 3
   },
   "file_extension": ".py",
   "mimetype": "text/x-python",
   "name": "python",
   "nbconvert_exporter": "python",
   "pygments_lexer": "ipython3",
   "version": "3.12.3"
  }
 },
 "nbformat": 4,
 "nbformat_minor": 2
}

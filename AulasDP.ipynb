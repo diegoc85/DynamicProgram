{
 "cells": [
  {
   "cell_type": "code",
   "execution_count": null,
   "metadata": {},
   "outputs": [
    {
     "name": "stdout",
     "output_type": "stream",
     "text": [
      "256\n"
     ]
    }
   ],
   "source": [
    "def funcao(x):\n",
    "    return x * x\n",
    "\n",
    "a = funcao(2) #4\n",
    "z= funcao(a) # 16 \n",
    "b = funcao(z) # 16 * 16\n",
    "\n",
    "print(b)"
   ]
  },
  {
   "cell_type": "code",
   "execution_count": 2,
   "metadata": {},
   "outputs": [
    {
     "name": "stdout",
     "output_type": "stream",
     "text": [
      "256\n"
     ]
    }
   ],
   "source": [
    "def funcao(x):\n",
    "    return x * x  # Retorna o quadrado de x\n",
    "\n",
    "a = funcao(2)  # a = 2 * 2 = 4\n",
    "b = funcao(funcao(a))  # b = funcao(funcao(4))\n",
    "print(b)\n"
   ]
  },
  {
   "cell_type": "code",
   "execution_count": 3,
   "metadata": {},
   "outputs": [
    {
     "name": "stdout",
     "output_type": "stream",
     "text": [
      "8\n"
     ]
    }
   ],
   "source": [
    "def funcao(x):\n",
    "    return x + x  # Retorna o dobro de x\n",
    "\n",
    "a = funcao(2)  # a = 2 + 2 = 4\n",
    "b = funcao(funcao(2))  # b = funcao(funcao(2))\n",
    "print(b)\n"
   ]
  },
  {
   "cell_type": "code",
   "execution_count": 4,
   "metadata": {},
   "outputs": [
    {
     "name": "stdout",
     "output_type": "stream",
     "text": [
      "300\n"
     ]
    }
   ],
   "source": [
    "def soma(lista):\n",
    "    resultado = 0\n",
    "    for e in lista:\n",
    "        resultado = resultado + e  # Soma os elementos da lista\n",
    "    return resultado\n",
    "\n",
    "lista = [10, 20, 30]  # Esta variável não afeta diretamente a função soma()\n",
    "\n",
    "print(soma([100, 200]))  # Chamada da função com a lista [100, 200]\n"
   ]
  },
  {
   "cell_type": "code",
   "execution_count": null,
   "metadata": {},
   "outputs": [],
   "source": [
    "lista = [1,4,0,2,3]\n",
    "\n",
    "a = lista[0]\n",
    "\n",
    "while (a!=0):\n",
    "    print(a)\n",
    "    a = lista[a]\n",
    "    "
   ]
  },
  {
   "cell_type": "code",
   "execution_count": 7,
   "metadata": {},
   "outputs": [
    {
     "name": "stdout",
     "output_type": "stream",
     "text": [
      "[7, 8]\n",
      "None\n"
     ]
    }
   ],
   "source": [
    "lista = [7,8]\n",
    "print(lista)\n",
    "lista_nova = lista.insert(2,9)\n",
    "print(lista_nova)"
   ]
  },
  {
   "cell_type": "code",
   "execution_count": 8,
   "metadata": {},
   "outputs": [
    {
     "name": "stdout",
     "output_type": "stream",
     "text": [
      "[7, 8, 1, 2, 3, 4, 5]\n"
     ]
    }
   ],
   "source": [
    "lista = [7,8]\n",
    "\n",
    "for x in range(0,5):\n",
    "    numero = int(input('Digite um número:'))\n",
    "    lista.append(numero)\n",
    "print(lista)\n",
    "\n",
    "\n"
   ]
  },
  {
   "cell_type": "code",
   "execution_count": null,
   "metadata": {},
   "outputs": [
    {
     "data": {
      "text/plain": [
       "[3, 4, 5, 6]"
      ]
     },
     "execution_count": 15,
     "metadata": {},
     "output_type": "execute_result"
    }
   ],
   "source": [
    "\n",
    "def cresce(lista):\n",
    "    i_ultimo = len(lista) - 1\n",
    "    ultimo1 = lista[i_ultimo]\n",
    "    ultimo2 = lista[-1]\n",
    "    lista.append(ultimo1 + 1)\n",
    "    return lista\n",
    "\n",
    "cresce([3,4,5])\n",
    "cresce([30,40,50,60])\n",
    "cresce([2])\n"
   ]
  }
 ],
 "metadata": {
  "kernelspec": {
   "display_name": "Python 3",
   "language": "python",
   "name": "python3"
  },
  "language_info": {
   "codemirror_mode": {
    "name": "ipython",
    "version": 3
   },
   "file_extension": ".py",
   "mimetype": "text/x-python",
   "name": "python",
   "nbconvert_exporter": "python",
   "pygments_lexer": "ipython3",
   "version": "3.12.3"
  }
 },
 "nbformat": 4,
 "nbformat_minor": 2
}
